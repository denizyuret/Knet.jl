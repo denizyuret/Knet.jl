{
 "cells": [
  {
   "cell_type": "markdown",
   "metadata": {},
   "source": [
    "# Knet CNN Example"
   ]
  },
  {
   "cell_type": "markdown",
   "metadata": {},
   "source": [
    "### Training CNN (VGG-style) on CIFAR-10 - Image Recognition 2017-12-07\n",
    "\n",
    "#### Comparison with other frameworks from https://github.com/ilkarman/DeepLearningFrameworks\n",
    "\n",
    "| DL Library                               | Test Accuracy (%) | Training Time (s) |\n",
    "| ---------------------------------------- | ----------------- | ----------------- |\n",
    "| [MXNet](https://github.com/ilkarman/DeepLearningFrameworks/blob/master/MXNet_CNN.ipynb)                 | 77                | 145               |\n",
    "| [Caffe2](https://github.com/ilkarman/DeepLearningFrameworks/blob/master/Caffe2_CNN.ipynb)               | 79                | 148               |\n",
    "| [Gluon](https://github.com/ilkarman/DeepLearningFrameworks/blob/master/Gluon_CNN.ipynb)                 | 76                | 152               |\n",
    "| [Knet(Julia)](https://github.com/ilkarman/DeepLearningFrameworks/blob/master/Knet_CNN.ipynb)            | 78                | 159               |\n",
    "| [Chainer](https://github.com/ilkarman/DeepLearningFrameworks/blob/master/Chainer_CNN.ipynb)             | 79                | 162               |\n",
    "| [CNTK](https://github.com/ilkarman/DeepLearningFrameworks/blob/master/CNTK_CNN.ipynb)                   | 78                | 163               |\n",
    "| [PyTorch](https://github.com/ilkarman/DeepLearningFrameworks/blob/master/PyTorch_CNN.ipynb)             | 78                | 169               |\n",
    "| [Tensorflow](https://github.com/ilkarman/DeepLearningFrameworks/blob/master/Tensorflow_CNN.ipynb)       | 78                | 173               |\n",
    "| [Keras(CNTK)](https://github.com/ilkarman/DeepLearningFrameworks/blob/master/Keras_CNTK_CNN.ipynb)      | 77                | 194               |\n",
    "| [Keras(TF)](https://github.com/ilkarman/DeepLearningFrameworks/blob/master/Keras_TF_CNN.ipynb)          | 77                | 241               |\n",
    "| [Lasagne(Theano)](https://github.com/ilkarman/DeepLearningFrameworks/blob/master/Theano_Lasagne_CNN.ipynb) | 77                | 253               |\n",
    "| [Keras(Theano)](https://github.com/ilkarman/DeepLearningFrameworks/blob/master/Keras_Theano_CNN.ipynb)  | 78                | 269               |\n"
   ]
  },
  {
   "cell_type": "markdown",
   "metadata": {
    "collapsed": true
   },
   "source": [
    "#### After installing and starting Julia run the following to install the required packages:\n",
    "```\n",
    "julia> Pkg.init(); for p in (\"CUDAdrv\",\"IJulia\",\"Knet\"); Pkg.add(p); end\n",
    "```"
   ]
  },
  {
   "cell_type": "code",
   "execution_count": 1,
   "metadata": {},
   "outputs": [],
   "source": [
    "using Knet\n",
    "EPOCHS = 10\n",
    "BATCHSIZE = 64\n",
    "LR = 0.01\n",
    "MOMENTUM = 0.9\n",
    "N_CLASSES = 10;"
   ]
  },
  {
   "cell_type": "code",
   "execution_count": 2,
   "metadata": {},
   "outputs": [
    {
     "name": "stdout",
     "output_type": "stream",
     "text": [
      "OS: Linux\n",
      "Julia: 0.6.1\n",
      "Knet: 0.8.5+\n",
      "GPU: Tesla K80\n",
      "Tesla K80\n",
      "\n"
     ]
    }
   ],
   "source": [
    "println(\"OS: \", Sys.KERNEL)\n",
    "println(\"Julia: \", VERSION)\n",
    "println(\"Knet: \", Pkg.installed(\"Knet\"))\n",
    "println(\"GPU: \", readstring(`nvidia-smi --query-gpu=name --format=csv,noheader`))"
   ]
  },
  {
   "cell_type": "code",
   "execution_count": 3,
   "metadata": {},
   "outputs": [],
   "source": [
    "# define model\n",
    "function initmodel(; atype=KnetArray, dtype=Float32, winit=xavier, binit=zeros)\n",
    "    w(dims...)=atype(winit(dtype,dims...))\n",
    "    b(dims...)=atype(binit(dtype,dims...))\n",
    "    return Any[\n",
    "        w(3,3,3,50), b(1,1,50,1),\n",
    "        w(3,3,50,50), b(1,1,50,1),\n",
    "        w(3,3,50,100), b(1,1,100,1),\n",
    "        w(3,3,100,100), b(1,1,100,1),\n",
    "        w(512,6400), b(512,1),\n",
    "        w(N_CLASSES,512), b(N_CLASSES,1)\n",
    "    ]\n",
    "end;"
   ]
  },
  {
   "cell_type": "code",
   "execution_count": 4,
   "metadata": {},
   "outputs": [],
   "source": [
    "# define loss and its gradient\n",
    "function predict(w,x)\n",
    "    convbias(x,w,b) = conv4(w,x;padding=1) .+ b\n",
    "    fc(x,w,b) = w * mat(x) .+ b;\n",
    "    x = relu.(convbias(x,w[1],w[2]))\n",
    "    x = relu.(pool(convbias(x,w[3],w[4])))\n",
    "    x = dropout(x,0.25)\n",
    "    x = relu.(convbias(x,w[5],w[6]))\n",
    "    x = relu.(pool(convbias(x,w[7],w[8])))\n",
    "    x = dropout(x,0.25)\n",
    "    x = relu.(fc(x,w[9],w[10]))\n",
    "    x = dropout(x,0.5)\n",
    "    return fc(x,w[11],w[12])\n",
    "end\n",
    "\n",
    "loss(w,x,y)=nll(predict(w,x),y) # nll: negative log likelihood\n",
    "lossgradient = grad(loss);"
   ]
  },
  {
   "cell_type": "code",
   "execution_count": 5,
   "metadata": {},
   "outputs": [
    {
     "name": "stderr",
     "output_type": "stream",
     "text": [
      "\u001b[1m\u001b[36mINFO: \u001b[39m\u001b[22m\u001b[36mReading cifar-10-binary.tar.gz...\n",
      "\u001b[39m"
     ]
    },
    {
     "name": "stdout",
     "output_type": "stream",
     "text": [
      "  3.346628 seconds (1.29 M allocations: 1.784 GiB, 18.76% gc time)\n",
      "32×32×3×50000 Array{Float32,4}\n",
      "50000-element Array{UInt8,1}\n",
      "32×32×3×10000 Array{Float32,4}\n",
      "10000-element Array{UInt8,1}\n"
     ]
    }
   ],
   "source": [
    "# load data\n",
    "include(Knet.dir(\"data\",\"cifar.jl\"))\n",
    "@time (xtrn,ytrn,xtst,ytst,lbls)=cifar10()\n",
    "for d in (xtrn,ytrn,xtst,ytst); println(summary(d)); end"
   ]
  },
  {
   "cell_type": "code",
   "execution_count": 6,
   "metadata": {},
   "outputs": [
    {
     "name": "stdout",
     "output_type": "stream",
     "text": [
      "String[\"ship\", \"truck\", \"automobile\"]\n"
     ]
    },
    {
     "data": {
      "image/png": "[encoded data removed]",
      "text/plain": [
       "32×32 Array{RGB{Float32},2}:\n",
       " RGB{Float32}(0.494118,0.517647,0.556863)     …  RGB{Float32}(0.701961,0.717647,0.772549)\n",
       " RGB{Float32}(0.419608,0.435294,0.470588)        RGB{Float32}(0.72549,0.737255,0.796078) \n",
       " RGB{Float32}(0.376471,0.384314,0.407843)        RGB{Float32}(0.717647,0.729412,0.788235)\n",
       " RGB{Float32}(0.403922,0.403922,0.423529)        RGB{Float32}(0.717647,0.729412,0.792157)\n",
       " RGB{Float32}(0.372549,0.368627,0.384314)        RGB{Float32}(0.690196,0.705882,0.764706)\n",
       " RGB{Float32}(0.345098,0.337255,0.345098)     …  RGB{Float32}(0.647059,0.654902,0.717647)\n",
       " RGB{Float32}(0.364706,0.34902,0.341176)         RGB{Float32}(0.639216,0.639216,0.713726)\n",
       " RGB{Float32}(0.298039,0.27451,0.262745)         RGB{Float32}(0.556863,0.572549,0.635294)\n",
       " RGB{Float32}(0.247059,0.211765,0.207843)        RGB{Float32}(0.411765,0.439216,0.486275)\n",
       " RGB{Float32}(0.243137,0.196078,0.196078)        RGB{Float32}(0.34902,0.376471,0.407843) \n",
       " RGB{Float32}(0.27451,0.223529,0.223529)      …  RGB{Float32}(0.352941,0.368627,0.388235)\n",
       " RGB{Float32}(0.309804,0.25098,0.254902)         RGB{Float32}(0.317647,0.301961,0.317647)\n",
       " RGB{Float32}(0.298039,0.25098,0.254902)         RGB{Float32}(0.266667,0.235294,0.235294)\n",
       " ⋮                                            ⋱                                          \n",
       " RGB{Float32}(0.0823529,0.0470588,0.0588235)  …  RGB{Float32}(0.466667,0.431373,0.458824)\n",
       " RGB{Float32}(0.0901961,0.0588235,0.0509804)     RGB{Float32}(0.458824,0.419608,0.45098) \n",
       " RGB{Float32}(0.145098,0.117647,0.0941176)       RGB{Float32}(0.458824,0.419608,0.45098) \n",
       " RGB{Float32}(0.180392,0.152941,0.129412)        RGB{Float32}(0.45098,0.411765,0.439216) \n",
       " RGB{Float32}(0.14902,0.117647,0.109804)         RGB{Float32}(0.439216,0.4,0.431373)     \n",
       " RGB{Float32}(0.133333,0.0980392,0.105882)    …  RGB{Float32}(0.407843,0.368627,0.4)     \n",
       " RGB{Float32}(0.117647,0.101961,0.0823529)       RGB{Float32}(0.45098,0.411765,0.443137) \n",
       " RGB{Float32}(0.101961,0.105882,0.0745098)       RGB{Float32}(0.47451,0.435294,0.466667) \n",
       " RGB{Float32}(0.156863,0.156863,0.156863)        RGB{Float32}(0.458824,0.419608,0.45098) \n",
       " RGB{Float32}(0.215686,0.219608,0.25098)         RGB{Float32}(0.447059,0.407843,0.439216)\n",
       " RGB{Float32}(0.235294,0.247059,0.290196)     …  RGB{Float32}(0.454902,0.415686,0.447059)\n",
       " RGB{Float32}(0.254902,0.278431,0.309804)        RGB{Float32}(0.447059,0.411765,0.439216)"
      ]
     },
     "metadata": {},
     "output_type": "display_data"
    },
    {
     "data": {
      "image/png": "[encoded data removed]",
      "text/plain": [
       "32×32 Array{RGB{Float32},2}:\n",
       " RGB{Float32}(0.894118,0.921569,0.952941)  …  RGB{Float32}(0.0235294,0.0235294,0.0235294)\n",
       " RGB{Float32}(0.807843,0.827451,0.894118)     RGB{Float32}(0.0196078,0.0196078,0.0156863)\n",
       " RGB{Float32}(0.698039,0.701961,0.811765)     RGB{Float32}(0.0431373,0.0470588,0.0431373)\n",
       " RGB{Float32}(0.65098,0.654902,0.788235)      RGB{Float32}(0.231373,0.258824,0.203922)   \n",
       " RGB{Float32}(0.631373,0.647059,0.784314)     RGB{Float32}(0.282353,0.32549,0.235294)    \n",
       " RGB{Float32}(0.498039,0.541176,0.698039)  …  RGB{Float32}(0.207843,0.247059,0.172549)   \n",
       " RGB{Float32}(0.333333,0.380392,0.521569)     RGB{Float32}(0.231373,0.270588,0.196078)   \n",
       " RGB{Float32}(0.219608,0.223529,0.298039)     RGB{Float32}(0.278431,0.317647,0.239216)   \n",
       " RGB{Float32}(0.4,0.407843,0.482353)          RGB{Float32}(0.298039,0.337255,0.247059)   \n",
       " RGB{Float32}(0.415686,0.458824,0.494118)     RGB{Float32}(0.2,0.219608,0.156863)        \n",
       " RGB{Float32}(0.282353,0.337255,0.270588)  …  RGB{Float32}(0.188235,0.207843,0.160784)   \n",
       " RGB{Float32}(0.223529,0.262745,0.211765)     RGB{Float32}(0.231373,0.266667,0.192157)   \n",
       " RGB{Float32}(0.152941,0.172549,0.160784)     RGB{Float32}(0.207843,0.231373,0.168627)   \n",
       " ⋮                                         ⋱                                             \n",
       " RGB{Float32}(0.619608,0.611765,0.372549)  …  RGB{Float32}(0.054902,0.0901961,0.101961)  \n",
       " RGB{Float32}(0.615686,0.588235,0.384314)     RGB{Float32}(0.0313726,0.0352941,0.0392157)\n",
       " RGB{Float32}(0.705882,0.647059,0.47451)      RGB{Float32}(0.0235294,0.0196078,0.0117647)\n",
       " RGB{Float32}(0.713726,0.643137,0.458824)     RGB{Float32}(0.0196078,0.0196078,0.0196078)\n",
       " RGB{Float32}(0.686275,0.615686,0.423529)     RGB{Float32}(0.0470588,0.0901961,0.0705882)\n",
       " RGB{Float32}(0.647059,0.580392,0.407843)  …  RGB{Float32}(0.223529,0.301961,0.196078)   \n",
       " RGB{Float32}(0.494118,0.454902,0.329412)     RGB{Float32}(0.411765,0.466667,0.27451)    \n",
       " RGB{Float32}(0.384314,0.32549,0.282353)      RGB{Float32}(0.380392,0.427451,0.247059)   \n",
       " RGB{Float32}(0.305882,0.25098,0.215686)      RGB{Float32}(0.243137,0.309804,0.203922)   \n",
       " RGB{Float32}(0.368627,0.305882,0.247059)     RGB{Float32}(0.231373,0.301961,0.227451)   \n",
       " RGB{Float32}(0.47451,0.435294,0.376471)   …  RGB{Float32}(0.270588,0.32549,0.247059)    \n",
       " RGB{Float32}(0.564706,0.576471,0.560784)     RGB{Float32}(0.231373,0.262745,0.211765)   "
      ]
     },
     "metadata": {},
     "output_type": "display_data"
    },
    {
     "data": {
      "image/png": "[encoded data removed]",
      "text/plain": [
       "32×32 Array{RGB{Float32},2}:\n",
       " RGB{Float32}(0.988235,0.988235,0.988235)  …  RGB{Float32}(0.984314,0.984314,0.984314)\n",
       " RGB{Float32}(0.960784,0.960784,0.960784)     RGB{Float32}(0.964706,0.964706,0.964706)\n",
       " RGB{Float32}(0.988235,0.988235,0.988235)     RGB{Float32}(0.992157,0.992157,0.992157)\n",
       " RGB{Float32}(0.996078,0.996078,0.996078)     RGB{Float32}(0.988235,0.988235,0.988235)\n",
       " RGB{Float32}(1.0,1.0,1.0)                    RGB{Float32}(0.992157,0.992157,0.992157)\n",
       " RGB{Float32}(1.0,1.0,1.0)                 …  RGB{Float32}(0.992157,0.992157,0.992157)\n",
       " RGB{Float32}(0.992157,0.992157,0.992157)     RGB{Float32}(0.984314,0.984314,0.984314)\n",
       " RGB{Float32}(0.996078,0.996078,0.996078)     RGB{Float32}(0.996078,0.996078,0.996078)\n",
       " RGB{Float32}(1.0,1.0,1.0)                    RGB{Float32}(1.0,1.0,1.0)               \n",
       " RGB{Float32}(1.0,1.0,1.0)                    RGB{Float32}(1.0,1.0,1.0)               \n",
       " RGB{Float32}(1.0,1.0,1.0)                 …  RGB{Float32}(1.0,1.0,1.0)               \n",
       " RGB{Float32}(1.0,1.0,1.0)                    RGB{Float32}(1.0,1.0,1.0)               \n",
       " RGB{Float32}(0.992157,0.992157,0.992157)     RGB{Float32}(1.0,1.0,1.0)               \n",
       " ⋮                                         ⋱                                          \n",
       " RGB{Float32}(1.0,1.0,1.0)                 …  RGB{Float32}(0.85098,0.85098,0.862745)  \n",
       " RGB{Float32}(1.0,1.0,1.0)                    RGB{Float32}(0.760784,0.760784,0.780392)\n",
       " RGB{Float32}(0.976471,0.976471,0.976471)     RGB{Float32}(0.705882,0.709804,0.729412)\n",
       " RGB{Float32}(0.898039,0.894118,0.909804)     RGB{Float32}(0.713726,0.717647,0.737255)\n",
       " RGB{Float32}(0.792157,0.792157,0.815686)     RGB{Float32}(0.690196,0.694118,0.717647)\n",
       " RGB{Float32}(0.709804,0.709804,0.733333)  …  RGB{Float32}(0.639216,0.639216,0.67451) \n",
       " RGB{Float32}(0.694118,0.694118,0.721569)     RGB{Float32}(0.611765,0.611765,0.65098) \n",
       " RGB{Float32}(0.709804,0.709804,0.733333)     RGB{Float32}(0.635294,0.639216,0.670588)\n",
       " RGB{Float32}(0.713726,0.717647,0.741176)     RGB{Float32}(0.658824,0.658824,0.690196)\n",
       " RGB{Float32}(0.670588,0.670588,0.694118)     RGB{Float32}(0.635294,0.635294,0.666667)\n",
       " RGB{Float32}(0.654902,0.658824,0.682353)  …  RGB{Float32}(0.666667,0.670588,0.694118)\n",
       " RGB{Float32}(0.690196,0.694118,0.717647)     RGB{Float32}(0.654902,0.658824,0.678431)"
      ]
     },
     "metadata": {},
     "output_type": "display_data"
    }
   ],
   "source": [
    "# Some sample images and classes from CIFAR-10\n",
    "using Images\n",
    "rp = randperm(10000)\n",
    "println(lbls[ytst[rp[1:3]]]); flush(STDOUT)\n",
    "for i=1:3; display(cifarview(xtst,rp[i])); end"
   ]
  },
  {
   "cell_type": "code",
   "execution_count": 7,
   "metadata": {},
   "outputs": [],
   "source": [
    "# prepare for training\n",
    "model = initmodel()\n",
    "optim = optimizers(model, Momentum; lr=LR, gamma=MOMENTUM);"
   ]
  },
  {
   "cell_type": "code",
   "execution_count": 8,
   "metadata": {},
   "outputs": [
    {
     "name": "stderr",
     "output_type": "stream",
     "text": [
      "\u001b[1m\u001b[36mINFO: \u001b[39m\u001b[22m\u001b[36mPrecompile...\n",
      "\u001b[39m"
     ]
    },
    {
     "name": "stdout",
     "output_type": "stream",
     "text": [
      "  9.046027 seconds (2.15 M allocations: 113.366 MiB, 40.29% gc time)\n"
     ]
    }
   ],
   "source": [
    "# force precompile (optional)\n",
    "info(\"Precompile...\")\n",
    "x1 = KnetArray(xtrn[:,:,:,1:BATCHSIZE])\n",
    "y1 = ytrn[1:BATCHSIZE]\n",
    "@time lossgradient(model,x1,y1);"
   ]
  },
  {
   "cell_type": "code",
   "execution_count": 9,
   "metadata": {},
   "outputs": [
    {
     "name": "stderr",
     "output_type": "stream",
     "text": [
      "\u001b[1m\u001b[36mINFO: \u001b[39m\u001b[22m\u001b[36mTraining...\n",
      "\u001b[39m"
     ]
    },
    {
     "name": "stdout",
     "output_type": "stream",
     "text": [
      " 14.832824 seconds (2.23 M allocations: 685.405 MiB, 0.49% gc time)\n",
      " 14.155661 seconds (1.98 M allocations: 671.379 MiB, 0.46% gc time)\n",
      " 14.189869 seconds (1.98 M allocations: 671.473 MiB, 0.56% gc time)\n",
      " 14.205895 seconds (1.98 M allocations: 671.379 MiB, 0.50% gc time)\n",
      " 14.240342 seconds (1.98 M allocations: 671.379 MiB, 0.54% gc time)\n",
      " 14.236751 seconds (1.98 M allocations: 671.379 MiB, 0.46% gc time)\n",
      " 14.262262 seconds (1.98 M allocations: 671.379 MiB, 0.44% gc time)\n",
      " 14.241114 seconds (1.98 M allocations: 671.379 MiB, 0.43% gc time)\n",
      " 14.259997 seconds (1.98 M allocations: 671.379 MiB, 0.48% gc time)\n",
      " 14.282991 seconds (1.98 M allocations: 671.379 MiB, 0.46% gc time)\n",
      "142.912236 seconds (20.06 M allocations: 6.571 GiB, 0.48% gc time)\n"
     ]
    }
   ],
   "source": [
    "info(\"Training...\")\n",
    "@time for epoch in 1:EPOCHS\n",
    "    @time for (x,y) in minibatch(xtrn,ytrn,BATCHSIZE;shuffle=true,xtype=KnetArray)\n",
    "        grads = lossgradient(model, x, y)\n",
    "        update!(model, grads, optim)\n",
    "    end\n",
    "end"
   ]
  },
  {
   "cell_type": "code",
   "execution_count": 10,
   "metadata": {},
   "outputs": [
    {
     "name": "stderr",
     "output_type": "stream",
     "text": [
      "\u001b[1m\u001b[36mINFO: \u001b[39m\u001b[22m\u001b[36mTesting...\n",
      "\u001b[39m"
     ]
    },
    {
     "name": "stdout",
     "output_type": "stream",
     "text": [
      "  1.811974 seconds (514.55 k allocations: 143.190 MiB, 1.25% gc time)\n"
     ]
    },
    {
     "data": {
      "text/plain": [
       "0.7705328525641025"
      ]
     },
     "execution_count": 10,
     "metadata": {},
     "output_type": "execute_result"
    }
   ],
   "source": [
    "# test accuracy\n",
    "info(\"Testing...\")\n",
    "testdata = minibatch(xtst,ytst,BATCHSIZE;xtype=KnetArray)\n",
    "@time accuracy(model,testdata,predict)"
   ]
  },
  {
   "cell_type": "code",
   "execution_count": null,
   "metadata": {},
   "outputs": [],
   "source": []
  }
 ],
 "metadata": {
  "kernelspec": {
   "display_name": "Julia 0.6.1",
   "language": "julia",
   "name": "julia-0.6"
  },
  "language_info": {
   "file_extension": ".jl",
   "mimetype": "application/julia",
   "name": "julia",
   "version": "0.6.1"
  }
 },
 "nbformat": 4,
 "nbformat_minor": 2
}
