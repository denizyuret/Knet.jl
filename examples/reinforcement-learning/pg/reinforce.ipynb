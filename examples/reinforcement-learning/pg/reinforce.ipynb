{
 "cells": [
  {
   "cell_type": "code",
   "execution_count": 1,
   "metadata": {},
   "outputs": [
    {
     "data": {
      "text/plain": [
       "REINFORCE_DISCRETE"
      ]
     },
     "execution_count": 1,
     "metadata": {},
     "output_type": "execute_result"
    }
   ],
   "source": [
    "include(\"reinforce_discrete.jl\")"
   ]
  },
  {
   "cell_type": "code",
   "execution_count": 2,
   "metadata": {},
   "outputs": [
    {
     "data": {
      "text/markdown": [
       "julia reinforce_discrete.jl\n",
       "\n",
       "This example implements the REINFORCE algorithm from `Simple statistical gradient-following algorithms for connectionist reinforcement learning.`,  Williams, Ronald J. Machine learning, 8(3-4):229–256, 1992. This example also demonstrates the usage of the `@zerograd` function for stopping the gradient flow.\n"
      ],
      "text/plain": [
       "julia reinforce_discrete.jl\n",
       "\n",
       "This example implements the REINFORCE algorithm from `Simple statistical gradient-following algorithms for connectionist reinforcement learning.`,  Williams, Ronald J. Machine learning, 8(3-4):229–256, 1992. This example also demonstrates the usage of the `@zerograd` function for stopping the gradient flow.\n"
      ]
     },
     "execution_count": 2,
     "metadata": {},
     "output_type": "execute_result"
    }
   ],
   "source": [
    "@doc REINFORCE_DISCRETE"
   ]
  },
  {
   "cell_type": "code",
   "execution_count": 3,
   "metadata": {},
   "outputs": [
    {
     "name": "stdout",
     "output_type": "stream",
     "text": [
      "usage: <PROGRAM> [--env_id ENV_ID] [--episodes EPISODES]\n",
      "                 [--gamma GAMMA] [--threshold THRESHOLD] [--lr LR]\n",
      "                 [--render] [--atype ATYPE]\n",
      "\n",
      "(c) Ozan Arkan Can, 2018. Demonstration of the REINFORCE algorithm on\n",
      "the discrete action space.\n",
      "\n",
      "optional arguments:\n",
      "  --env_id ENV_ID       environment name (default: \"CartPole-v1\")\n",
      "  --episodes EPISODES   number of episodes (type: Int64, default: 20)\n",
      "  --gamma GAMMA         doscount factor (type: Float64, default: 0.99)\n",
      "  --threshold THRESHOLD\n",
      "                        stop the episode even it is not terminal after\n",
      "                        number of steps exceeds the threshold (type:\n",
      "                        Int64, default: 1000)\n",
      "  --lr LR               learning rate (type: Float64, default: 0.01)\n",
      "  --render              render the environment\n",
      "  --atype ATYPE          (default: \"Array{Float32}\")\n",
      "\n"
     ]
    }
   ],
   "source": [
    "REINFORCE_DISCRETE.main(\"--help\")"
   ]
  },
  {
   "cell_type": "code",
   "execution_count": 4,
   "metadata": {},
   "outputs": [
    {
     "name": "stdout",
     "output_type": "stream",
     "text": [
      "episode 1 , total rewards: 15.0\n",
      "episode 2 , total rewards: 10.0\n",
      "episode 3 , total rewards: 13.0\n",
      "episode 4 , total rewards: 12.0\n",
      "episode 5 , total rewards: 22.0\n",
      "\u001b[33mWARN: gym.spaces.Box autodetected dtype as <type 'numpy.float32'>. Please provide explicit dtype.\u001b[0m\n"
     ]
    }
   ],
   "source": [
    "REINFORCE_DISCRETE.main(\"--episodes 5\")"
   ]
  },
  {
   "cell_type": "code",
   "execution_count": 5,
   "metadata": {},
   "outputs": [
    {
     "data": {
      "text/plain": [
       "REINFORCE_CONTINUOUS"
      ]
     },
     "execution_count": 5,
     "metadata": {},
     "output_type": "execute_result"
    }
   ],
   "source": [
    "include(\"reinforce_continuous.jl\")"
   ]
  },
  {
   "cell_type": "code",
   "execution_count": 6,
   "metadata": {},
   "outputs": [
    {
     "name": "stdout",
     "output_type": "stream",
     "text": [
      "usage: <PROGRAM> [--env_id ENV_ID] [--episodes EPISODES]\n",
      "                 [--gamma GAMMA] [--threshold THRESHOLD] [--lr LR]\n",
      "                 [--render] [--hidden HIDDEN] [--atype ATYPE]\n",
      "\n",
      "(c) Ozan Arkan Can, 2018. Demonstration of the REINFORCE algorithm on\n",
      "the continuous action space.\n",
      "\n",
      "optional arguments:\n",
      "  --env_id ENV_ID       environment name (default: \"Pendulum-v0\")\n",
      "  --episodes EPISODES   number of episodes (type: Int64, default: 20)\n",
      "  --gamma GAMMA         doscount factor (type: Float64, default: 0.9)\n",
      "  --threshold THRESHOLD\n",
      "                        stop the episode even it is not terminal after\n",
      "                        number of steps exceeds the threshold (type:\n",
      "                        Int64, default: 1000)\n",
      "  --lr LR               learning rate (type: Float64, default: 0.001)\n",
      "  --render              render the environment\n",
      "  --hidden HIDDEN       hidden units (type: Int64, default: 64)\n",
      "  --atype ATYPE          (default: \"Array{Float32}\")\n",
      "\n"
     ]
    }
   ],
   "source": [
    "REINFORCE_CONTINUOUS.main(\"--help\")"
   ]
  },
  {
   "cell_type": "code",
   "execution_count": 7,
   "metadata": {},
   "outputs": [
    {
     "name": "stdout",
     "output_type": "stream",
     "text": [
      "episode 1 , total rewards: -1359.82151446636\u001b[33mWARN: gym.spaces.Box autodetected dtype as <type 'numpy.float32'>. Please provide explicit dtype.\u001b[0m\n",
      "\u001b[33mWARN: gym.spaces.Box autodetected dtype as <type 'numpy.float32'>. Please provide explicit dtype.\u001b[0m\n",
      "\n",
      "episode 2 , total rewards: -1516.8878433811815\n",
      "episode 3 , total rewards: -1341.4901928517504\n",
      "episode 4 , total rewards: -1452.433550256215\n",
      "episode 5 , total rewards: -1176.5983983031583\n"
     ]
    }
   ],
   "source": [
    "REINFORCE_CONTINUOUS.main(\"--episodes 5\")"
   ]
  }
 ],
 "metadata": {
  "kernelspec": {
   "display_name": "Julia 0.6.2",
   "language": "julia",
   "name": "julia-0.6"
  },
  "language_info": {
   "file_extension": ".jl",
   "mimetype": "application/julia",
   "name": "julia",
   "version": "0.6.2"
  }
 },
 "nbformat": 4,
 "nbformat_minor": 2
}
